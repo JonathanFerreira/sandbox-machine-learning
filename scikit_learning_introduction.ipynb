{
  "nbformat": 4,
  "nbformat_minor": 0,
  "metadata": {
    "colab": {
      "name": "scikit_learning_introduction.ipynb",
      "provenance": [],
      "include_colab_link": true
    },
    "kernelspec": {
      "name": "python3",
      "display_name": "Python 3"
    }
  },
  "cells": [
    {
      "cell_type": "markdown",
      "metadata": {
        "id": "view-in-github",
        "colab_type": "text"
      },
      "source": [
        "<a href=\"https://colab.research.google.com/github/JonathanFerreira/sandbox-machine-learning/blob/master/scikit_learning_introduction.ipynb\" target=\"_parent\"><img src=\"https://colab.research.google.com/assets/colab-badge.svg\" alt=\"Open In Colab\"/></a>"
      ]
    },
    {
      "cell_type": "markdown",
      "metadata": {
        "id": "dFGFR4O6w1cm",
        "colab_type": "text"
      },
      "source": [
        "## Comandos básicos"
      ]
    },
    {
      "cell_type": "code",
      "metadata": {
        "id": "qskRwUaehngW",
        "colab_type": "code",
        "colab": {
          "base_uri": "https://localhost:8080/",
          "height": 34
        },
        "outputId": "33e3ee3a-45d4-4e37-ade9-709a0dcbab26"
      },
      "source": [
        "# Carregando dados\n",
        "\n",
        "from sklearn import datasets\n",
        "iris = datasets.load_iris()\n",
        "digits = datasets.load_digits()\n",
        "\n",
        "# Matriz com N exemplos com N features (Valores de X)\n",
        "print(iris.data) \n",
        "# Vetor com os valores correspondentes a cada entrada do dataset (Valores de Y)\n",
        "print(iris.target)\n",
        "\n"
      ],
      "execution_count": 12,
      "outputs": [
        {
          "output_type": "stream",
          "text": [
            "150\n"
          ],
          "name": "stdout"
        }
      ]
    },
    {
      "cell_type": "code",
      "metadata": {
        "id": "CkEt2Qujmlca",
        "colab_type": "code",
        "colab": {
          "base_uri": "https://localhost:8080/",
          "height": 34
        },
        "outputId": "3362136a-572f-4cd2-97d5-0e2742ead22d"
      },
      "source": [
        "# Importando dependências\n",
        "from sklearn import svm\n",
        "\n",
        "# Inicializando o algoritmo com o valor de gama estático (Taxa de aprendizado)\n",
        "clf = svm.SVC(gamma=0.001, C=100.)\n",
        "\n",
        "# Treinando o modelo com todos os dados dataset exceto o ultimo\n",
        "# a sintaxe :-1 significa: Pegue todos os valores exceto o último\n",
        "clf.fit(digits.data[:-1], digits.target[:-1])\n",
        "\n",
        "\n",
        "# Predizendo o resultado para o ultimo valor do dataset\n",
        "clf.predict(digits.data[-1:])"
      ],
      "execution_count": 27,
      "outputs": [
        {
          "output_type": "execute_result",
          "data": {
            "text/plain": [
              "array([8])"
            ]
          },
          "metadata": {
            "tags": []
          },
          "execution_count": 27
        }
      ]
    },
    {
      "cell_type": "markdown",
      "metadata": {
        "id": "7T5byjVepGuq",
        "colab_type": "text"
      },
      "source": [
        "## Regressão linear de Diabetes"
      ]
    },
    {
      "cell_type": "code",
      "metadata": {
        "id": "oDV_w0jxpPFQ",
        "colab_type": "code",
        "colab": {
          "base_uri": "https://localhost:8080/",
          "height": 34
        },
        "outputId": "4553237a-c179-48d4-9d41-1c4b56cb98a0"
      },
      "source": [
        "diabetes = datasets.load_diabetes()\n",
        "# Seleciona 80% dos dados para treino do modelo\n",
        "diabetes_X_train = diabetes.data[:-20]\n",
        "# Seleciona 20% dos dados para teste do modelo\n",
        "diabetes_X_test  = diabetes.data[-20:]\n",
        "# Seleciona 80% dos resultados para treino do modelo\n",
        "diabetes_y_train = diabetes.target[:-20]\n",
        "# Seleciona 20% dos resultados para treino do modelo\n",
        "diabetes_y_test  = diabetes.target[-20:]"
      ],
      "execution_count": 31,
      "outputs": [
        {
          "output_type": "stream",
          "text": [
            "[1, 2, 3, 4, 5, 6, 7, 8]\n"
          ],
          "name": "stdout"
        }
      ]
    },
    {
      "cell_type": "code",
      "metadata": {
        "id": "yFJr5Rb1qhBL",
        "colab_type": "code",
        "colab": {
          "base_uri": "https://localhost:8080/",
          "height": 104
        },
        "outputId": "698917af-8cfd-431d-b39a-aade60c16d67"
      },
      "source": [
        "# Importa dependências\n",
        "from sklearn import linear_model\n",
        "import numpy as np\n",
        "\n",
        "# Importa o modelo para treino de regressão linear\n",
        "regr = linear_model.LinearRegression()\n",
        "\n",
        "# Treina o modelo\n",
        "regr.fit(diabetes_X_train, diabetes_y_train)\n",
        "\n",
        "print(regr.coef_)\n",
        "\n",
        "# Erro quadrático Médio (Mean Square Error - MSE)\n",
        "print('Erro quadrático médio: ', np.mean((regr.predict(diabetes_X_test) - diabetes_y_test)**2))\n",
        "\n",
        "# Calcula o score.\n",
        "# Mais perto de 1 => bom\n",
        "# Mais perto de 0 => ruim\n",
        "print('Score: ', regr.score(diabetes_X_test, diabetes_y_test))"
      ],
      "execution_count": 51,
      "outputs": [
        {
          "output_type": "stream",
          "text": [
            "[ 3.03499549e-01 -2.37639315e+02  5.10530605e+02  3.27736980e+02\n",
            " -8.14131709e+02  4.92814588e+02  1.02848452e+02  1.84606489e+02\n",
            "  7.43519617e+02  7.60951722e+01]\n",
            "Erro quadrático médio:  2004.5676026898207\n",
            "Score:  0.5850753022690575\n"
          ],
          "name": "stdout"
        }
      ]
    },
    {
      "cell_type": "markdown",
      "metadata": {
        "id": "hO3kZpFdxN18",
        "colab_type": "text"
      },
      "source": [
        "## Regressão Linear Aleatória\n"
      ]
    },
    {
      "cell_type": "code",
      "metadata": {
        "id": "mXi6EFwFxYkL",
        "colab_type": "code",
        "colab": {
          "base_uri": "https://localhost:8080/",
          "height": 265
        },
        "outputId": "661f8ec5-0c2c-44a0-cd14-e8e3a2efea62"
      },
      "source": [
        "import numpy as np\n",
        "from sklearn.linear_model import LinearRegression\n",
        "import matplotlib.pyplot as plt\n",
        "\n",
        "# Geraum vetor randomico\n",
        "x = np.random.rand(10,1)\n",
        "# Gera um ruido\n",
        "ruido = 0.1 * np.random.rand(10,1)\n",
        "# O noise foi realizado apenas para não gerar uma linha perfeitamente reta\n",
        "y =  2*x+3 + ruido\n",
        "\n",
        "plt.scatter(x, y)\n",
        "plt.show()"
      ],
      "execution_count": 74,
      "outputs": [
        {
          "output_type": "display_data",
          "data": {
            "image/png": "[encoded data removed]",
            "text/plain": [
              "<Figure size 432x288 with 1 Axes>"
            ]
          },
          "metadata": {
            "tags": []
          }
        }
      ]
    },
    {
      "cell_type": "code",
      "metadata": {
        "id": "kZ_cEIFjy1lJ",
        "colab_type": "code",
        "colab": {
          "base_uri": "https://localhost:8080/",
          "height": 69
        },
        "outputId": "70981c27-bc98-4d9b-9b51-4ee77a050677"
      },
      "source": [
        "# Treinando o modelo\n",
        "model = LinearRegression()\n",
        "model.fit(x, y)\n",
        "\n",
        "# Lebrando que o modelo é: (2 * x + 3)\n",
        "print(\"Slope: \", model.coef_)\n",
        "print(\"Intercept: \", model.intercept_)\n",
        "\n",
        "print(\"X = 20. Predição: \", model.predict([[20]]))"
      ],
      "execution_count": 105,
      "outputs": [
        {
          "output_type": "stream",
          "text": [
            "Slope:  [[2.01092742]]\n",
            "Intercept:  [3.05195958]\n",
            "X = 20. Predição:  [[43.27050807]]\n"
          ],
          "name": "stdout"
        }
      ]
    },
    {
      "cell_type": "code",
      "metadata": {
        "id": "wNy36mJR2Qi8",
        "colab_type": "code",
        "colab": {
          "base_uri": "https://localhost:8080/",
          "height": 265
        },
        "outputId": "059c427d-7285-4d01-f725-2b7704b3949f"
      },
      "source": [
        "x_test = np.linspace(-3,3)\n",
        "y_pred = model.predict(x_test[:, None])\n",
        "plt.scatter(x, y)\n",
        "plt.plot(x_test, y_pred, 'red')\n",
        "plt.legend(['Predicted line', 'Observerd data'])\n",
        "plt.show()"
      ],
      "execution_count": 103,
      "outputs": [
        {
          "output_type": "display_data",
          "data": {
            "image/png": "[encoded data removed]",
            "text/plain": [
              "<Figure size 432x288 with 1 Axes>"
            ]
          },
          "metadata": {
            "tags": []
          }
        }
      ]
    }
  ]
}